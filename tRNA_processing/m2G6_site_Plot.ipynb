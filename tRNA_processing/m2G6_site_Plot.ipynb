{
 "cells": [
  {
   "cell_type": "markdown",
   "id": "30e6d41e",
   "metadata": {},
   "source": [
    "# M2G6 Plots"
   ]
  },
  {
   "cell_type": "markdown",
   "id": "d1ae352b",
   "metadata": {},
   "source": [
    "After processing of data from bam-readcount, information regarding specifically m2G6 in tRNA-Gly-GCC-2 and tRNA-Gly-CCC-2 are explored and plotted."
   ]
  },
  {
   "cell_type": "markdown",
   "id": "af798de2",
   "metadata": {},
   "source": [
    "----------------------------------------------------------------------------------------\n",
    "- Load required packages\n",
    "\n",
    "----------------------------------------------------------------------------------------"
   ]
  },
  {
   "cell_type": "code",
   "execution_count": 2,
   "id": "55975f19",
   "metadata": {},
   "outputs": [],
   "source": [
    "# Load packages\n",
    "import pandas as pd\n",
    "import numpy as np\n",
    "import matplotlib.pyplot as plt\n",
    "import seaborn as sns\n",
    "from scipy.stats import mannwhitneyu\n",
    "from scipy import stats"
   ]
  },
  {
   "cell_type": "markdown",
   "id": "20c65763",
   "metadata": {},
   "source": [
    "----------------------------------------------------------------------------------------\n",
    "- m2G6 in Gly-tRNA-GCC-2\n",
    "\n",
    "----------------------------------------------------------------------------------------"
   ]
  },
  {
   "cell_type": "markdown",
   "id": "9d41903e",
   "metadata": {},
   "source": [
    "----------------------------------------------------------------------------------------\n",
    "- import the vaf data of tRNA-Gly-GCC-2 and reformat\n",
    "\n",
    "----------------------------------------------------------------------------------------"
   ]
  },
  {
   "cell_type": "code",
   "execution_count": 3,
   "id": "d3f85b85",
   "metadata": {},
   "outputs": [],
   "source": [
    "# import data of vaf of tRNA-Gly-GCC-2\n",
    "GCC_2_data = pd.read_csv('tRNA-Gly-GCC-2_sum.csv')\n",
    "GCC_2_data = pd.DataFrame(GCC_2_data)"
   ]
  },
  {
   "cell_type": "code",
   "execution_count": 4,
   "id": "08faeaa3",
   "metadata": {},
   "outputs": [],
   "source": [
    "# seperate the data into two groups\n",
    "# extract the data at 6th row corresponding to m2G\n",
    "data_group1 = [[GCC_2_data.iloc[5]['chip1.0101'],GCC_2_data.iloc[5]['chip1.0103'],GCC_2_data.iloc[5]['chip1.0105']],[GCC_2_data.iloc[5]['chip1.0107'],GCC_2_data.iloc[5]['chip1.0109'],GCC_2_data.iloc[5]['chip1.0111']]]\n",
    "data_group2 = [[GCC_2_data.iloc[5]['chip1.0102'],GCC_2_data.iloc[5]['chip1.0104'],GCC_2_data.iloc[5]['chip1.0106']],[GCC_2_data.iloc[5]['chip1.0108'],GCC_2_data.iloc[5]['chip1.0110'],GCC_2_data.iloc[5]['chip1.0112']]]\n",
    "                      "
   ]
  },
  {
   "cell_type": "code",
   "execution_count": 5,
   "id": "371b4fb6",
   "metadata": {},
   "outputs": [
    {
     "data": {
      "text/plain": [
       "[0.0386150321483999, 0.0402328278975473, 0.0393842306790654]"
      ]
     },
     "execution_count": 5,
     "metadata": {},
     "output_type": "execute_result"
    }
   ],
   "source": [
    "# check how does the data look like \n",
    "data_group1[0]"
   ]
  },
  {
   "cell_type": "markdown",
   "id": "6ce2a69d",
   "metadata": {},
   "source": [
    "----------------------------------------------------------------------------------------\n",
    "- Tried to use mann whitney U test, but non-parametric test doesn't give significant results\n",
    "\n",
    "----------------------------------------------------------------------------------------"
   ]
  },
  {
   "cell_type": "code",
   "execution_count": 6,
   "id": "7fba0f2f",
   "metadata": {},
   "outputs": [],
   "source": [
    "# U1,p = mannwhitneyu(data_group1[0],data_group2[0],method='auto')\n",
    "# print(p)\n",
    "# U1,p = mannwhitneyu(data_group1[1],data_group2[1],method='auto')\n",
    "# print(p)\n",
    "# U1,p = mannwhitneyu(data_group2[0],data_group2[1],method='auto')\n",
    "# print(p)"
   ]
  },
  {
   "cell_type": "markdown",
   "id": "cea981ac",
   "metadata": {},
   "source": [
    "----------------------------------------------------------------------------------------\n",
    "- Used welch's t-test here to assess the significance, which is like student's t-test but assuming non-equal variances\n",
    "\n",
    "----------------------------------------------------------------------------------------"
   ]
  },
  {
   "cell_type": "code",
   "execution_count": 7,
   "id": "d79f3716",
   "metadata": {},
   "outputs": [
    {
     "data": {
      "text/plain": [
       "TtestResult(statistic=-11.899873519453093, pvalue=0.006973003451672926, df=2.0011606467192116)"
      ]
     },
     "execution_count": 7,
     "metadata": {},
     "output_type": "execute_result"
    }
   ],
   "source": [
    "stats.ttest_ind(data_group1[0],data_group2[0], equal_var=False)"
   ]
  },
  {
   "cell_type": "code",
   "execution_count": 8,
   "id": "a7bd33a9",
   "metadata": {},
   "outputs": [
    {
     "data": {
      "text/plain": [
       "TtestResult(statistic=-4.253979237974575, pvalue=0.036048800131157945, df=2.422497120818093)"
      ]
     },
     "execution_count": 8,
     "metadata": {},
     "output_type": "execute_result"
    }
   ],
   "source": [
    "stats.ttest_ind(data_group1[1],data_group2[1], equal_var=False)"
   ]
  },
  {
   "cell_type": "code",
   "execution_count": 9,
   "id": "d1866931",
   "metadata": {},
   "outputs": [
    {
     "data": {
      "text/plain": [
       "TtestResult(statistic=3.4166275515075895, pvalue=0.032119936883517775, df=3.567643076424624)"
      ]
     },
     "execution_count": 9,
     "metadata": {},
     "output_type": "execute_result"
    }
   ],
   "source": [
    "stats.ttest_ind(data_group2[0],data_group2[1], equal_var=False)"
   ]
  },
  {
   "cell_type": "markdown",
   "id": "e5c33033",
   "metadata": {},
   "source": [
    "----------------------------------------------------------------------------------------\n",
    "- calculate mean and standard deviation of each group in the dataframe\n",
    "\n",
    "----------------------------------------------------------------------------------------"
   ]
  },
  {
   "cell_type": "code",
   "execution_count": 10,
   "id": "4ecb9648",
   "metadata": {},
   "outputs": [],
   "source": [
    "data_group1 = pd.DataFrame(data_group1)\n",
    "data_group2 = pd.DataFrame(data_group2)\n",
    "data_group1['mean'] = data_group1.mean(axis=1)\n",
    "data_group2['mean'] = data_group2.mean(axis=1)\n",
    "data_group1['STD'] = data_group1.std(axis=1)\n",
    "data_group2['STD'] = data_group2.std(axis=1)"
   ]
  },
  {
   "cell_type": "markdown",
   "id": "0d09025a",
   "metadata": {},
   "source": [
    "----------------------------------------------------------------------------------------\n",
    "- Make plots\n",
    "\n",
    "----------------------------------------------------------------------------------------"
   ]
  },
  {
   "cell_type": "code",
   "execution_count": 11,
   "id": "09993fb9",
   "metadata": {},
   "outputs": [
    {
     "data": {
      "image/png": "[encoded data removed]",
      "text/plain": [
       "<Figure size 640x640 with 1 Axes>"
      ]
     },
     "metadata": {},
     "output_type": "display_data"
    }
   ],
   "source": [
    "barWidth = 0.3\n",
    " \n",
    "plt.figure(figsize=(8, 8), dpi=80)\n",
    "plt.rc('legend', fontsize=15)    # legend fontsize\n",
    "plt.rc('ytick', labelsize=14)    # legend fontsize\n",
    "plt.rc('xtick', labelsize=14) \n",
    "plt.rcParams['axes.xmargin'] = 0.1\n",
    "plt.rcParams['axes.titlepad'] = 15\n",
    "\n",
    "# Set position of bar on X axis\n",
    "r1 = np.arange(2)\n",
    "r2 = [x + barWidth for x in r1]\n",
    " \n",
    "# Make the plot\n",
    "plt.bar(r1, data_group1['mean'], yerr=data_group1['STD'], color='red', width=barWidth, edgecolor='white', label='-BL', capsize=5)\n",
    "plt.bar(r2, data_group2['mean'], yerr=data_group2['STD'], color='blue', width=barWidth, edgecolor='white', label='+BL',capsize=5)\n",
    "\n",
    "x1, x2 = 0, 0.3   # columns 'Sat' and 'Sun' (first column: 0, see plt.xticks())\n",
    "y, h, col = data_group2['mean'].max() + 0.06, 0.01, 'k'\n",
    "plt.plot([x1, x1, x2, x2], [y, y+h, y+h, y], lw=1.5, c=col)\n",
    "plt.text((x1+x2)*.5, y+h, \"**\", ha='center', va='bottom', color=col,fontsize = 20)\n",
    "\n",
    "x1, x2 = 1, 1.3   # columns 'Sat' and 'Sun' (first column: 0, see plt.xticks())\n",
    "y, h, col = data_group2['mean'].min() + 0.1, 0.01, 'k'\n",
    "plt.plot([x1, x1, x2, x2], [y, y+h, y+h, y], lw=1.5, c=col)\n",
    "plt.text((x1+x2)*.5, y+h, \"*\", ha='center', va='bottom', color=col,fontsize = 20)\n",
    "\n",
    "x1, x2 = 0.3, 1.3   # columns 'Sat' and 'Sun' (first column: 0, see plt.xticks())\n",
    "y, h, col = data_group2['mean'].max() + 0.13, 0.01, 'k'\n",
    "plt.plot([x1, x1, x2, x2], [y, y+h, y+h, y], lw=1.5, c=col)\n",
    "plt.text((x1+x2)*.5, y+h, \"*\", ha='center', va='bottom', color=col,fontsize = 20)\n",
    " \n",
    "# Add xticks on the middle of the group bars\n",
    "plt.xlabel(\"Experiment Group\",fontsize=18,labelpad=10)\n",
    "plt.ylabel(\"Sequencing Error\",fontsize=18,labelpad=10)\n",
    "plt.title(\"M2G6: tRNA-Gly-GCC-2, chip1\", fontsize=18)\n",
    "\n",
    "plt.xticks([r + 0.15 for r in range(2)], ['WT','ΔD3'])\n",
    "plt.ylim(0,0.65)\n",
    "    \n",
    "# Create legend & Show graphic\n",
    "plt.legend(loc='upper right')\n",
    "plt.savefig('m2G6_GCC_2_chip1_new.png',dpi=500, bbox_inches='tight')\n",
    "plt.show()"
   ]
  },
  {
   "cell_type": "markdown",
   "id": "44edcb17",
   "metadata": {},
   "source": [
    "----------------------------------------------------------------------------------------\n",
    "- m2G6 in Gly-tRNA-CCC-2: steps are exactly the same as Gly-tRNA-GCC-2 above\n",
    "\n",
    "----------------------------------------------------------------------------------------"
   ]
  },
  {
   "cell_type": "code",
   "execution_count": 12,
   "id": "d19699b2",
   "metadata": {},
   "outputs": [],
   "source": [
    "CCC_2_data = pd.read_csv('tRNA-Gly-CCC-2_sum.csv')\n",
    "CCC_2_data = pd.DataFrame(CCC_2_data)"
   ]
  },
  {
   "cell_type": "code",
   "execution_count": 13,
   "id": "7674975b",
   "metadata": {},
   "outputs": [],
   "source": [
    "data_group1 = [[CCC_2_data.iloc[5]['chip2.0101'],CCC_2_data.iloc[5]['chip2.0103'],CCC_2_data.iloc[5]['chip2.0105']],[CCC_2_data.iloc[5]['chip2.0107'],CCC_2_data.iloc[5]['chip2.0109'],CCC_2_data.iloc[5]['chip2.0111']]]\n",
    "data_group2 = [[CCC_2_data.iloc[5]['chip2.0102'],CCC_2_data.iloc[5]['chip2.0104'],CCC_2_data.iloc[5]['chip2.0106']],[CCC_2_data.iloc[5]['chip2.0108'],CCC_2_data.iloc[5]['chip2.0110'],CCC_2_data.iloc[5]['chip2.0112']]]\n",
    "                      "
   ]
  },
  {
   "cell_type": "code",
   "execution_count": 14,
   "id": "f93f8437",
   "metadata": {},
   "outputs": [
    {
     "data": {
      "text/plain": [
       "TtestResult(statistic=-10.179186278964163, pvalue=0.0012124851817420684, df=3.364364233693904)"
      ]
     },
     "execution_count": 14,
     "metadata": {},
     "output_type": "execute_result"
    }
   ],
   "source": [
    "stats.ttest_ind(data_group1[0],data_group2[0], equal_var=False)"
   ]
  },
  {
   "cell_type": "code",
   "execution_count": 15,
   "id": "e21bcfbb",
   "metadata": {},
   "outputs": [
    {
     "data": {
      "text/plain": [
       "TtestResult(statistic=-7.210503686950808, pvalue=0.0023644824864363072, df=3.8073000976981675)"
      ]
     },
     "execution_count": 15,
     "metadata": {},
     "output_type": "execute_result"
    }
   ],
   "source": [
    "stats.ttest_ind(data_group1[1],data_group2[1], equal_var=False)"
   ]
  },
  {
   "cell_type": "code",
   "execution_count": 16,
   "id": "0342c223",
   "metadata": {},
   "outputs": [
    {
     "data": {
      "text/plain": [
       "TtestResult(statistic=3.1237113046566214, pvalue=0.04340912048966577, df=3.443719686211641)"
      ]
     },
     "execution_count": 16,
     "metadata": {},
     "output_type": "execute_result"
    }
   ],
   "source": [
    "stats.ttest_ind(data_group2[0],data_group2[1], equal_var=False)"
   ]
  },
  {
   "cell_type": "code",
   "execution_count": 17,
   "id": "2fd55927",
   "metadata": {},
   "outputs": [],
   "source": [
    "data_group1 = pd.DataFrame(data_group1)\n",
    "data_group2 = pd.DataFrame(data_group2)\n",
    "data_group1['mean'] = data_group1.mean(axis=1)\n",
    "data_group2['mean'] = data_group2.mean(axis=1)\n",
    "data_group1['STD'] = data_group1.std(axis=1)\n",
    "data_group2['STD'] = data_group2.std(axis=1)"
   ]
  },
  {
   "cell_type": "code",
   "execution_count": 18,
   "id": "b1404e72",
   "metadata": {},
   "outputs": [
    {
     "data": {
      "image/png": "[encoded data removed]",
      "text/plain": [
       "<Figure size 640x640 with 1 Axes>"
      ]
     },
     "metadata": {},
     "output_type": "display_data"
    }
   ],
   "source": [
    "barWidth = 0.3\n",
    " \n",
    "plt.figure(figsize=(8, 8), dpi=80)\n",
    "plt.rc('legend', fontsize=15)    # legend fontsize\n",
    "plt.rc('ytick', labelsize=14)    # legend fontsize\n",
    "plt.rc('xtick', labelsize=14) \n",
    "plt.rcParams['axes.xmargin'] = 0.1\n",
    "plt.rcParams['axes.titlepad'] = 15\n",
    "\n",
    "# Set position of bar on X axis\n",
    "r1 = np.arange(2)\n",
    "r2 = [x + barWidth for x in r1]\n",
    " \n",
    "# Make the plot\n",
    "plt.bar(r1, data_group1['mean'], yerr=data_group1['STD'], color='red', width=barWidth, edgecolor='white', label='-BL', capsize=5)\n",
    "plt.bar(r2, data_group2['mean'], yerr=data_group2['STD'], color='blue', width=barWidth, edgecolor='white', label='+BL',capsize=5)\n",
    "\n",
    "x1, x2 = 0, 0.3   # columns 'Sat' and 'Sun' (first column: 0, see plt.xticks())\n",
    "y, h, col = data_group2['mean'].max() + 0.06, 0.01, 'k'\n",
    "plt.plot([x1, x1, x2, x2], [y, y+h, y+h, y], lw=1.5, c=col)\n",
    "plt.text((x1+x2)*.5, y+h, \"**\", ha='center', va='bottom', color=col,fontsize = 20)\n",
    "\n",
    "x1, x2 = 1, 1.3   # columns 'Sat' and 'Sun' (first column: 0, see plt.xticks())\n",
    "y, h, col = data_group2['mean'].min() + 0.1, 0.01, 'k'\n",
    "plt.plot([x1, x1, x2, x2], [y, y+h, y+h, y], lw=1.5, c=col)\n",
    "plt.text((x1+x2)*.5, y+h, \"*\", ha='center', va='bottom', color=col,fontsize = 20)\n",
    "\n",
    "x1, x2 = 0.3, 1.3   # columns 'Sat' and 'Sun' (first column: 0, see plt.xticks())\n",
    "y, h, col = data_group2['mean'].max() + 0.13, 0.01, 'k'\n",
    "plt.plot([x1, x1, x2, x2], [y, y+h, y+h, y], lw=1.5, c=col)\n",
    "plt.text((x1+x2)*.5, y+h, \"*\", ha='center', va='bottom', color=col,fontsize = 20)\n",
    " \n",
    "# Add xticks on the middle of the group bars\n",
    "plt.xlabel(\"Experiment Group\",fontsize=18,labelpad=10)\n",
    "plt.ylabel(\"Sequencing Error\",fontsize=18,labelpad=10)\n",
    "plt.title(\"M2G6: tRNA-Gly-CCC-2, chip2\", fontsize=18)\n",
    "\n",
    "plt.xticks([r + 0.15 for r in range(2)], ['WT','ΔD3'])\n",
    "plt.ylim(0,0.65)\n",
    "    \n",
    "# Create legend & Show graphic\n",
    "plt.legend(loc='upper right')\n",
    "plt.savefig('m2G6_CCC_2_chip2_new.png',dpi=500, bbox_inches='tight')\n",
    "plt.show()"
   ]
  },
  {
   "cell_type": "markdown",
   "id": "488ad169",
   "metadata": {},
   "source": [
    "----------------------------------------------------------------------------------------\n",
    "## Plotting mismatch profiles at m2G position in different groups\n",
    "\n",
    "----------------------------------------------------------------------------------------"
   ]
  },
  {
   "cell_type": "markdown",
   "id": "180d94f7",
   "metadata": {},
   "source": [
    "----------------------------------------------------------------------------------------\n",
    "- Import vaf data of Gly-tRNA-GCC-2 and Gly-tRNA-CCC-2\n",
    "\n",
    "----------------------------------------------------------------------------------------"
   ]
  },
  {
   "cell_type": "code",
   "execution_count": 52,
   "id": "db45ce33",
   "metadata": {},
   "outputs": [],
   "source": [
    "# loop and import data\n",
    "batch_list = ['chip1','chip2']\n",
    "sample_list = ['01','02','03','04','05','06','07','08','09','10','11','12']\n",
    "\n",
    "df={}\n",
    "df_GCC_2={}\n",
    "df_CCC_2={}\n",
    "\n",
    "for batch_number in batch_list:\n",
    "        for sample_number in sample_list:\n",
    "        \n",
    "            df['{}.01{}'.format(batch_number,sample_number)] = pd.read_csv('{}.01{}.bam_readcount.filtered.tsv'.format(batch_number,sample_number), sep='\\t')\n",
    "            df['{}.01{}'.format(batch_number,sample_number)]['vaf'] = df['{}.01{}'.format(batch_number,sample_number)]['count']/df['{}.01{}'.format(batch_number,sample_number)]['depth']\n",
    "\n",
    "            df_GCC_2['{}.01{}'.format(batch_number,sample_number)] = df['{}.01{}'.format(batch_number,sample_number)][df['{}.01{}'.format(batch_number,sample_number)]['chrom'] == 'tRNA-Gly-GCC-2']\n",
    "            df_CCC_2['{}.01{}'.format(batch_number,sample_number)] = df['{}.01{}'.format(batch_number,sample_number)][df['{}.01{}'.format(batch_number,sample_number)]['chrom'] == 'tRNA-Gly-CCC-2']"
   ]
  },
  {
   "cell_type": "markdown",
   "id": "9c7e5761",
   "metadata": {},
   "source": [
    "----------------------------------------------------------------------------------------\n",
    "- Reformat data (tRNA-Gly-GCC-2)\n",
    "\n",
    "----------------------------------------------------------------------------------------"
   ]
  },
  {
   "cell_type": "code",
   "execution_count": 53,
   "id": "1da5690a",
   "metadata": {},
   "outputs": [],
   "source": [
    "df_GCC_2_chip1_2_m2G6 = df_GCC_2['chip1.0102'][df_GCC_2['chip1.0102']['position'] == 45].sort_values(by='vaf', ascending=False)\n",
    "df_GCC_2_chip1_4_m2G6 = df_GCC_2['chip1.0104'][df_GCC_2['chip1.0104']['position'] == 45].sort_values(by='vaf', ascending=False)\n",
    "df_GCC_2_chip1_6_m2G6 = df_GCC_2['chip1.0106'][df_GCC_2['chip1.0106']['position'] == 45].sort_values(by='vaf', ascending=False)\n",
    "\n",
    "df_GCC_2_chip1_2_m2G6_THUMPD3_ko = df_GCC_2['chip1.0108'][df_GCC_2['chip1.0108']['position'] == 45].sort_values(by='vaf', ascending=False)\n",
    "df_GCC_2_chip1_4_m2G6_THUMPD3_ko = df_GCC_2['chip1.0110'][df_GCC_2['chip1.0110']['position'] == 45].sort_values(by='vaf', ascending=False)\n",
    "df_GCC_2_chip1_6_m2G6_THUMPD3_ko = df_GCC_2['chip1.0112'][df_GCC_2['chip1.0112']['position'] == 45].sort_values(by='vaf', ascending=False)\n"
   ]
  },
  {
   "cell_type": "code",
   "execution_count": 54,
   "id": "5c1a02f6",
   "metadata": {},
   "outputs": [
    {
     "data": {
      "text/html": [
       "<div>\n",
       "<style scoped>\n",
       "    .dataframe tbody tr th:only-of-type {\n",
       "        vertical-align: middle;\n",
       "    }\n",
       "\n",
       "    .dataframe tbody tr th {\n",
       "        vertical-align: top;\n",
       "    }\n",
       "\n",
       "    .dataframe thead th {\n",
       "        text-align: right;\n",
       "    }\n",
       "</style>\n",
       "<table border=\"1\" class=\"dataframe\">\n",
       "  <thead>\n",
       "    <tr style=\"text-align: right;\">\n",
       "      <th></th>\n",
       "      <th>chrom</th>\n",
       "      <th>position</th>\n",
       "      <th>ref</th>\n",
       "      <th>base</th>\n",
       "      <th>vaf</th>\n",
       "      <th>depth</th>\n",
       "      <th>count</th>\n",
       "      <th>avg_basequality</th>\n",
       "      <th>avg_pos_as_fraction</th>\n",
       "    </tr>\n",
       "  </thead>\n",
       "  <tbody>\n",
       "    <tr>\n",
       "      <th>4374</th>\n",
       "      <td>tRNA-Gly-GCC-2</td>\n",
       "      <td>45</td>\n",
       "      <td>G</td>\n",
       "      <td>-G</td>\n",
       "      <td>2.114006e-01</td>\n",
       "      <td>1607616</td>\n",
       "      <td>339851</td>\n",
       "      <td>0.00</td>\n",
       "      <td>0.77</td>\n",
       "    </tr>\n",
       "    <tr>\n",
       "      <th>4362</th>\n",
       "      <td>tRNA-Gly-GCC-2</td>\n",
       "      <td>45</td>\n",
       "      <td>G</td>\n",
       "      <td>T</td>\n",
       "      <td>8.300054e-02</td>\n",
       "      <td>1607616</td>\n",
       "      <td>133433</td>\n",
       "      <td>25.00</td>\n",
       "      <td>0.78</td>\n",
       "    </tr>\n",
       "    <tr>\n",
       "      <th>4361</th>\n",
       "      <td>tRNA-Gly-GCC-2</td>\n",
       "      <td>45</td>\n",
       "      <td>G</td>\n",
       "      <td>C</td>\n",
       "      <td>7.334525e-02</td>\n",
       "      <td>1607616</td>\n",
       "      <td>117911</td>\n",
       "      <td>31.66</td>\n",
       "      <td>0.77</td>\n",
       "    </tr>\n",
       "    <tr>\n",
       "      <th>4360</th>\n",
       "      <td>tRNA-Gly-GCC-2</td>\n",
       "      <td>45</td>\n",
       "      <td>G</td>\n",
       "      <td>A</td>\n",
       "      <td>7.621845e-03</td>\n",
       "      <td>1607616</td>\n",
       "      <td>12253</td>\n",
       "      <td>31.69</td>\n",
       "      <td>0.77</td>\n",
       "    </tr>\n",
       "    <tr>\n",
       "      <th>4375</th>\n",
       "      <td>tRNA-Gly-GCC-2</td>\n",
       "      <td>45</td>\n",
       "      <td>G</td>\n",
       "      <td>-GG</td>\n",
       "      <td>5.940473e-04</td>\n",
       "      <td>1607616</td>\n",
       "      <td>955</td>\n",
       "      <td>0.00</td>\n",
       "      <td>0.76</td>\n",
       "    </tr>\n",
       "    <tr>\n",
       "      <th>4370</th>\n",
       "      <td>tRNA-Gly-GCC-2</td>\n",
       "      <td>45</td>\n",
       "      <td>G</td>\n",
       "      <td>+T</td>\n",
       "      <td>3.377672e-04</td>\n",
       "      <td>1607616</td>\n",
       "      <td>543</td>\n",
       "      <td>0.00</td>\n",
       "      <td>0.74</td>\n",
       "    </tr>\n",
       "    <tr>\n",
       "      <th>4363</th>\n",
       "      <td>tRNA-Gly-GCC-2</td>\n",
       "      <td>45</td>\n",
       "      <td>G</td>\n",
       "      <td>+A</td>\n",
       "      <td>1.219197e-04</td>\n",
       "      <td>1607616</td>\n",
       "      <td>196</td>\n",
       "      <td>0.00</td>\n",
       "      <td>0.73</td>\n",
       "    </tr>\n",
       "    <tr>\n",
       "      <th>4376</th>\n",
       "      <td>tRNA-Gly-GCC-2</td>\n",
       "      <td>45</td>\n",
       "      <td>G</td>\n",
       "      <td>-GGTG</td>\n",
       "      <td>8.024304e-05</td>\n",
       "      <td>1607616</td>\n",
       "      <td>129</td>\n",
       "      <td>0.00</td>\n",
       "      <td>0.76</td>\n",
       "    </tr>\n",
       "    <tr>\n",
       "      <th>4366</th>\n",
       "      <td>tRNA-Gly-GCC-2</td>\n",
       "      <td>45</td>\n",
       "      <td>G</td>\n",
       "      <td>+C</td>\n",
       "      <td>6.282595e-05</td>\n",
       "      <td>1607616</td>\n",
       "      <td>101</td>\n",
       "      <td>0.00</td>\n",
       "      <td>0.77</td>\n",
       "    </tr>\n",
       "    <tr>\n",
       "      <th>4372</th>\n",
       "      <td>tRNA-Gly-GCC-2</td>\n",
       "      <td>45</td>\n",
       "      <td>G</td>\n",
       "      <td>+TC</td>\n",
       "      <td>6.842430e-06</td>\n",
       "      <td>1607616</td>\n",
       "      <td>11</td>\n",
       "      <td>0.00</td>\n",
       "      <td>0.77</td>\n",
       "    </tr>\n",
       "    <tr>\n",
       "      <th>4368</th>\n",
       "      <td>tRNA-Gly-GCC-2</td>\n",
       "      <td>45</td>\n",
       "      <td>G</td>\n",
       "      <td>+GC</td>\n",
       "      <td>2.488156e-06</td>\n",
       "      <td>1607616</td>\n",
       "      <td>4</td>\n",
       "      <td>0.00</td>\n",
       "      <td>0.80</td>\n",
       "    </tr>\n",
       "    <tr>\n",
       "      <th>4377</th>\n",
       "      <td>tRNA-Gly-GCC-2</td>\n",
       "      <td>45</td>\n",
       "      <td>G</td>\n",
       "      <td>-GGTGG</td>\n",
       "      <td>2.488156e-06</td>\n",
       "      <td>1607616</td>\n",
       "      <td>4</td>\n",
       "      <td>0.00</td>\n",
       "      <td>0.76</td>\n",
       "    </tr>\n",
       "    <tr>\n",
       "      <th>4365</th>\n",
       "      <td>tRNA-Gly-GCC-2</td>\n",
       "      <td>45</td>\n",
       "      <td>G</td>\n",
       "      <td>+AC</td>\n",
       "      <td>1.866117e-06</td>\n",
       "      <td>1607616</td>\n",
       "      <td>3</td>\n",
       "      <td>0.00</td>\n",
       "      <td>0.76</td>\n",
       "    </tr>\n",
       "    <tr>\n",
       "      <th>4367</th>\n",
       "      <td>tRNA-Gly-GCC-2</td>\n",
       "      <td>45</td>\n",
       "      <td>G</td>\n",
       "      <td>+CC</td>\n",
       "      <td>1.866117e-06</td>\n",
       "      <td>1607616</td>\n",
       "      <td>3</td>\n",
       "      <td>0.00</td>\n",
       "      <td>0.75</td>\n",
       "    </tr>\n",
       "    <tr>\n",
       "      <th>4364</th>\n",
       "      <td>tRNA-Gly-GCC-2</td>\n",
       "      <td>45</td>\n",
       "      <td>G</td>\n",
       "      <td>+AA</td>\n",
       "      <td>1.244078e-06</td>\n",
       "      <td>1607616</td>\n",
       "      <td>2</td>\n",
       "      <td>0.00</td>\n",
       "      <td>0.76</td>\n",
       "    </tr>\n",
       "    <tr>\n",
       "      <th>4373</th>\n",
       "      <td>tRNA-Gly-GCC-2</td>\n",
       "      <td>45</td>\n",
       "      <td>G</td>\n",
       "      <td>+TT</td>\n",
       "      <td>1.244078e-06</td>\n",
       "      <td>1607616</td>\n",
       "      <td>2</td>\n",
       "      <td>0.00</td>\n",
       "      <td>0.72</td>\n",
       "    </tr>\n",
       "    <tr>\n",
       "      <th>4369</th>\n",
       "      <td>tRNA-Gly-GCC-2</td>\n",
       "      <td>45</td>\n",
       "      <td>G</td>\n",
       "      <td>+GT</td>\n",
       "      <td>6.220391e-07</td>\n",
       "      <td>1607616</td>\n",
       "      <td>1</td>\n",
       "      <td>0.00</td>\n",
       "      <td>0.77</td>\n",
       "    </tr>\n",
       "    <tr>\n",
       "      <th>4371</th>\n",
       "      <td>tRNA-Gly-GCC-2</td>\n",
       "      <td>45</td>\n",
       "      <td>G</td>\n",
       "      <td>+TA</td>\n",
       "      <td>6.220391e-07</td>\n",
       "      <td>1607616</td>\n",
       "      <td>1</td>\n",
       "      <td>0.00</td>\n",
       "      <td>0.75</td>\n",
       "    </tr>\n",
       "    <tr>\n",
       "      <th>4378</th>\n",
       "      <td>tRNA-Gly-GCC-2</td>\n",
       "      <td>45</td>\n",
       "      <td>G</td>\n",
       "      <td>-GGTGGTTCA</td>\n",
       "      <td>6.220391e-07</td>\n",
       "      <td>1607616</td>\n",
       "      <td>1</td>\n",
       "      <td>0.00</td>\n",
       "      <td>0.83</td>\n",
       "    </tr>\n",
       "  </tbody>\n",
       "</table>\n",
       "</div>"
      ],
      "text/plain": [
       "               chrom  position ref        base           vaf    depth   count  \\\n",
       "4374  tRNA-Gly-GCC-2        45   G          -G  2.114006e-01  1607616  339851   \n",
       "4362  tRNA-Gly-GCC-2        45   G           T  8.300054e-02  1607616  133433   \n",
       "4361  tRNA-Gly-GCC-2        45   G           C  7.334525e-02  1607616  117911   \n",
       "4360  tRNA-Gly-GCC-2        45   G           A  7.621845e-03  1607616   12253   \n",
       "4375  tRNA-Gly-GCC-2        45   G         -GG  5.940473e-04  1607616     955   \n",
       "4370  tRNA-Gly-GCC-2        45   G          +T  3.377672e-04  1607616     543   \n",
       "4363  tRNA-Gly-GCC-2        45   G          +A  1.219197e-04  1607616     196   \n",
       "4376  tRNA-Gly-GCC-2        45   G       -GGTG  8.024304e-05  1607616     129   \n",
       "4366  tRNA-Gly-GCC-2        45   G          +C  6.282595e-05  1607616     101   \n",
       "4372  tRNA-Gly-GCC-2        45   G         +TC  6.842430e-06  1607616      11   \n",
       "4368  tRNA-Gly-GCC-2        45   G         +GC  2.488156e-06  1607616       4   \n",
       "4377  tRNA-Gly-GCC-2        45   G      -GGTGG  2.488156e-06  1607616       4   \n",
       "4365  tRNA-Gly-GCC-2        45   G         +AC  1.866117e-06  1607616       3   \n",
       "4367  tRNA-Gly-GCC-2        45   G         +CC  1.866117e-06  1607616       3   \n",
       "4364  tRNA-Gly-GCC-2        45   G         +AA  1.244078e-06  1607616       2   \n",
       "4373  tRNA-Gly-GCC-2        45   G         +TT  1.244078e-06  1607616       2   \n",
       "4369  tRNA-Gly-GCC-2        45   G         +GT  6.220391e-07  1607616       1   \n",
       "4371  tRNA-Gly-GCC-2        45   G         +TA  6.220391e-07  1607616       1   \n",
       "4378  tRNA-Gly-GCC-2        45   G  -GGTGGTTCA  6.220391e-07  1607616       1   \n",
       "\n",
       "      avg_basequality  avg_pos_as_fraction  \n",
       "4374             0.00                 0.77  \n",
       "4362            25.00                 0.78  \n",
       "4361            31.66                 0.77  \n",
       "4360            31.69                 0.77  \n",
       "4375             0.00                 0.76  \n",
       "4370             0.00                 0.74  \n",
       "4363             0.00                 0.73  \n",
       "4376             0.00                 0.76  \n",
       "4366             0.00                 0.77  \n",
       "4372             0.00                 0.77  \n",
       "4368             0.00                 0.80  \n",
       "4377             0.00                 0.76  \n",
       "4365             0.00                 0.76  \n",
       "4367             0.00                 0.75  \n",
       "4364             0.00                 0.76  \n",
       "4373             0.00                 0.72  \n",
       "4369             0.00                 0.77  \n",
       "4371             0.00                 0.75  \n",
       "4378             0.00                 0.83  "
      ]
     },
     "execution_count": 54,
     "metadata": {},
     "output_type": "execute_result"
    }
   ],
   "source": [
    "df_GCC_2_chip1_2_m2G6"
   ]
  },
  {
   "cell_type": "markdown",
   "id": "b0e8c1c8",
   "metadata": {},
   "source": [
    "----------------------------------------------------------------------------------------\n",
    "- Generate unique lists of all mismatch types (strings)\n",
    "\n",
    "----------------------------------------------------------------------------------------"
   ]
  },
  {
   "cell_type": "code",
   "execution_count": 55,
   "id": "a26c380c",
   "metadata": {},
   "outputs": [],
   "source": [
    "Mismatch_list_control = list(set(df_GCC_2_chip1_2_m2G6['base'].tolist() + df_GCC_2_chip1_4_m2G6['base'].tolist() + df_GCC_2_chip1_6_m2G6['base'].tolist()))\n"
   ]
  },
  {
   "cell_type": "code",
   "execution_count": 56,
   "id": "1dd85eef",
   "metadata": {},
   "outputs": [],
   "source": [
    "Mismatch_list_control.sort(reverse=True)"
   ]
  },
  {
   "cell_type": "code",
   "execution_count": 57,
   "id": "fa09fa32",
   "metadata": {},
   "outputs": [
    {
     "data": {
      "text/plain": [
       "['T',\n",
       " 'C',\n",
       " 'A',\n",
       " '-GGTGGTTCA',\n",
       " '-GGTGG',\n",
       " '-GGTG',\n",
       " '-GG',\n",
       " '-G',\n",
       " '+TTATT',\n",
       " '+TT',\n",
       " '+TC',\n",
       " '+TA',\n",
       " '+T',\n",
       " '+GTT',\n",
       " '+GT',\n",
       " '+GC',\n",
       " '+CC',\n",
       " '+C',\n",
       " '+AC',\n",
       " '+AA',\n",
       " '+A']"
      ]
     },
     "execution_count": 57,
     "metadata": {},
     "output_type": "execute_result"
    }
   ],
   "source": [
    "Mismatch_list_control"
   ]
  },
  {
   "cell_type": "code",
   "execution_count": 58,
   "id": "ef340bce",
   "metadata": {},
   "outputs": [
    {
     "data": {
      "text/plain": [
       "['T',\n",
       " 'C',\n",
       " 'A',\n",
       " '-GGTGG',\n",
       " '-GGTG',\n",
       " '-GG',\n",
       " '-G',\n",
       " '+TGT',\n",
       " '+TC',\n",
       " '+T',\n",
       " '+GTC',\n",
       " '+GT',\n",
       " '+GC',\n",
       " '+GA',\n",
       " '+CCT',\n",
       " '+CC',\n",
       " '+CA',\n",
       " '+C',\n",
       " '+AC',\n",
       " '+A']"
      ]
     },
     "execution_count": 58,
     "metadata": {},
     "output_type": "execute_result"
    }
   ],
   "source": [
    "Mismatch_list_THUMPD3_ko = list(set(df_GCC_2_chip1_2_m2G6_THUMPD3_ko['base'].tolist() + df_GCC_2_chip1_4_m2G6_THUMPD3_ko['base'].tolist() + df_GCC_2_chip1_6_m2G6_THUMPD3_ko['base'].tolist()))\n",
    "Mismatch_list_THUMPD3_ko.sort(reverse=True)\n",
    "Mismatch_list_THUMPD3_ko"
   ]
  },
  {
   "cell_type": "markdown",
   "id": "fb985a77",
   "metadata": {},
   "source": [
    "----------------------------------------------------------------------------------------\n",
    "- Plot only for T, C, A and -G patterns\n",
    "\n",
    "----------------------------------------------------------------------------------------"
   ]
  },
  {
   "cell_type": "code",
   "execution_count": 59,
   "id": "0cd0791a",
   "metadata": {},
   "outputs": [],
   "source": [
    "Mismatch_list_specific = ['T','C','A','-G']"
   ]
  },
  {
   "cell_type": "markdown",
   "id": "71dd3290",
   "metadata": {},
   "source": [
    "----------------------------------------------------------------------------------------\n",
    "- Extract data that matches the mismatch types in the list above\n",
    "\n",
    "----------------------------------------------------------------------------------------"
   ]
  },
  {
   "cell_type": "code",
   "execution_count": 26,
   "id": "4d8d47d8",
   "metadata": {},
   "outputs": [],
   "source": [
    "Mismatch_m2G_GCC_2 = {}\n",
    "\n",
    "for i in Mismatch_list_control:\n",
    "    \n",
    "    if i in df_GCC_2_chip1_2_m2G6['base'].values:\n",
    "    \n",
    "        i_1 = float(df_GCC_2_chip1_2_m2G6[df_GCC_2_chip1_2_m2G6['base'] == i]['vaf'].values)\n",
    "    \n",
    "    else:\n",
    "        \n",
    "        i_1 = 0\n",
    "    \n",
    "    if i in df_GCC_2_chip1_4_m2G6['base'].values:\n",
    "    \n",
    "        i_2 = float(df_GCC_2_chip1_4_m2G6[df_GCC_2_chip1_4_m2G6['base'] == i]['vaf'].values)\n",
    "    \n",
    "    else:\n",
    "        \n",
    "        i_2 = 0\n",
    "        \n",
    "    if i in df_GCC_2_chip1_6_m2G6['base'].values:\n",
    "    \n",
    "        i_3 = float(df_GCC_2_chip1_6_m2G6[df_GCC_2_chip1_6_m2G6['base'] == i]['vaf'].values)\n",
    "    \n",
    "    else:\n",
    "        \n",
    "        i_3 = 0\n",
    "    \n",
    "    Mismatch_m2G_GCC_2[i] = [i_1,i_2,i_3]"
   ]
  },
  {
   "cell_type": "code",
   "execution_count": 28,
   "id": "8c4dba16",
   "metadata": {},
   "outputs": [],
   "source": [
    "Mismatch_m2G_GCC_2 = {}\n",
    "\n",
    "for i in Mismatch_list_THUMPD3_ko:\n",
    "    \n",
    "    if i in df_GCC_2_chip1_2_m2G6_THUMPD3_ko['base'].values:\n",
    "    \n",
    "        i_1 = float(df_GCC_2_chip1_2_m2G6_THUMPD3_ko[df_GCC_2_chip1_2_m2G6_THUMPD3_ko['base'] == i]['vaf'].values)\n",
    "    \n",
    "    else:\n",
    "        \n",
    "        i_1 = 0\n",
    "    \n",
    "    if i in df_GCC_2_chip1_4_m2G6_THUMPD3_ko['base'].values:\n",
    "    \n",
    "        i_2 = float(df_GCC_2_chip1_4_m2G6_THUMPD3_ko[df_GCC_2_chip1_4_m2G6_THUMPD3_ko['base'] == i]['vaf'].values)\n",
    "    \n",
    "    else:\n",
    "        \n",
    "        i_2 = 0\n",
    "        \n",
    "    if i in df_GCC_2_chip1_6_m2G6_THUMPD3_ko['base'].values:\n",
    "    \n",
    "        i_3 = float(df_GCC_2_chip1_6_m2G6_THUMPD3_ko[df_GCC_2_chip1_6_m2G6_THUMPD3_ko['base'] == i]['vaf'].values)\n",
    "    \n",
    "    else:\n",
    "        \n",
    "        i_3 = 0\n",
    "    \n",
    "    Mismatch_m2G_GCC_2[i] = [i_1,i_2,i_3]"
   ]
  },
  {
   "cell_type": "code",
   "execution_count": 60,
   "id": "3571ca9e",
   "metadata": {},
   "outputs": [],
   "source": [
    "Mismatch_m2G_GCC_2_specific_Control = {}\n",
    "\n",
    "for i in Mismatch_list_specific:\n",
    "    \n",
    "    if i in df_GCC_2_chip1_2_m2G6['base'].values:\n",
    "    \n",
    "        i_1 = float(df_GCC_2_chip1_2_m2G6[df_GCC_2_chip1_2_m2G6['base'] == i]['vaf'].values)\n",
    "    \n",
    "    else:\n",
    "        \n",
    "        i_1 = 0\n",
    "    \n",
    "    if i in df_GCC_2_chip1_4_m2G6['base'].values:\n",
    "    \n",
    "        i_2 = float(df_GCC_2_chip1_4_m2G6[df_GCC_2_chip1_4_m2G6['base'] == i]['vaf'].values)\n",
    "    \n",
    "    else:\n",
    "        \n",
    "        i_2 = 0\n",
    "        \n",
    "    if i in df_GCC_2_chip1_6_m2G6['base'].values:\n",
    "    \n",
    "        i_3 = float(df_GCC_2_chip1_6_m2G6[df_GCC_2_chip1_6_m2G6['base'] == i]['vaf'].values)\n",
    "    \n",
    "    else:\n",
    "        \n",
    "        i_3 = 0\n",
    "    \n",
    "    Mismatch_m2G_GCC_2_specific_Control[i] = [i_1,i_2,i_3]"
   ]
  },
  {
   "cell_type": "code",
   "execution_count": 61,
   "id": "32322e9b",
   "metadata": {},
   "outputs": [],
   "source": [
    "Mismatch_m2G_GCC_2_specific_THUMPD3_ko = {}\n",
    "\n",
    "for i in Mismatch_list_specific:\n",
    "    \n",
    "    if i in df_GCC_2_chip1_2_m2G6_THUMPD3_ko['base'].values:\n",
    "    \n",
    "        i_1 = float(df_GCC_2_chip1_2_m2G6_THUMPD3_ko[df_GCC_2_chip1_2_m2G6_THUMPD3_ko['base'] == i]['vaf'].values)\n",
    "    \n",
    "    else:\n",
    "        \n",
    "        i_1 = 0\n",
    "    \n",
    "    if i in df_GCC_2_chip1_4_m2G6_THUMPD3_ko['base'].values:\n",
    "    \n",
    "        i_2 = float(df_GCC_2_chip1_4_m2G6_THUMPD3_ko[df_GCC_2_chip1_4_m2G6_THUMPD3_ko['base'] == i]['vaf'].values)\n",
    "    \n",
    "    else:\n",
    "        \n",
    "        i_2 = 0\n",
    "        \n",
    "    if i in df_GCC_2_chip1_6_m2G6_THUMPD3_ko['base'].values:\n",
    "    \n",
    "        i_3 = float(df_GCC_2_chip1_6_m2G6_THUMPD3_ko[df_GCC_2_chip1_6_m2G6_THUMPD3_ko['base'] == i]['vaf'].values)\n",
    "    \n",
    "    else:\n",
    "        \n",
    "        i_3 = 0\n",
    "    \n",
    "    Mismatch_m2G_GCC_2_specific_THUMPD3_ko[i] = [i_1,i_2,i_3]"
   ]
  },
  {
   "cell_type": "code",
   "execution_count": 62,
   "id": "bca338ba",
   "metadata": {},
   "outputs": [],
   "source": [
    "# save as dataframe\n",
    "Mismatch_m2G_GCC_2 = pd.DataFrame(Mismatch_m2G_GCC_2)\n",
    "Mismatch_m2G_GCC_2_specific_Control = pd.DataFrame(Mismatch_m2G_GCC_2_specific_Control)\n",
    "Mismatch_m2G_GCC_2_specific_THUMPD3_ko = pd.DataFrame(Mismatch_m2G_GCC_2_specific_THUMPD3_ko)"
   ]
  },
  {
   "cell_type": "code",
   "execution_count": 63,
   "id": "0cc5ce67",
   "metadata": {},
   "outputs": [],
   "source": [
    "# transpose the dataframe\n",
    "Mismatch_m2G_GCC_2 =Mismatch_m2G_GCC_2.T\n",
    "Mismatch_m2G_GCC_2_specific_Control=Mismatch_m2G_GCC_2_specific_Control.T\n",
    "Mismatch_m2G_GCC_2_specific_THUMPD3_ko=Mismatch_m2G_GCC_2_specific_THUMPD3_ko.T"
   ]
  },
  {
   "cell_type": "code",
   "execution_count": 64,
   "id": "3445adcf",
   "metadata": {},
   "outputs": [],
   "source": [
    "# calculate mean and standard deviation of each row \n",
    "Mismatch_m2G_GCC_2['mean'] = Mismatch_m2G_GCC_2.mean(axis=1)\n",
    "Mismatch_m2G_GCC_2['STD'] = Mismatch_m2G_GCC_2.std(axis=1)\n",
    "Mismatch_m2G_GCC_2_specific_Control['mean'] = Mismatch_m2G_GCC_2_specific_Control.mean(axis=1)\n",
    "Mismatch_m2G_GCC_2_specific_Control['STD'] = Mismatch_m2G_GCC_2_specific_Control.std(axis=1)\n",
    "Mismatch_m2G_GCC_2_specific_THUMPD3_ko['mean'] = Mismatch_m2G_GCC_2_specific_THUMPD3_ko.mean(axis=1)\n",
    "Mismatch_m2G_GCC_2_specific_THUMPD3_ko['STD'] = Mismatch_m2G_GCC_2_specific_THUMPD3_ko.std(axis=1)"
   ]
  },
  {
   "cell_type": "code",
   "execution_count": 65,
   "id": "ca264d23",
   "metadata": {},
   "outputs": [
    {
     "data": {
      "text/html": [
       "<div>\n",
       "<style scoped>\n",
       "    .dataframe tbody tr th:only-of-type {\n",
       "        vertical-align: middle;\n",
       "    }\n",
       "\n",
       "    .dataframe tbody tr th {\n",
       "        vertical-align: top;\n",
       "    }\n",
       "\n",
       "    .dataframe thead th {\n",
       "        text-align: right;\n",
       "    }\n",
       "</style>\n",
       "<table border=\"1\" class=\"dataframe\">\n",
       "  <thead>\n",
       "    <tr style=\"text-align: right;\">\n",
       "      <th></th>\n",
       "      <th>0</th>\n",
       "      <th>1</th>\n",
       "      <th>2</th>\n",
       "      <th>mean</th>\n",
       "      <th>STD</th>\n",
       "    </tr>\n",
       "  </thead>\n",
       "  <tbody>\n",
       "    <tr>\n",
       "      <th>T</th>\n",
       "      <td>1.681236e-02</td>\n",
       "      <td>0.032933</td>\n",
       "      <td>0.056621</td>\n",
       "      <td>3.163448e-02</td>\n",
       "      <td>1.640456e-02</td>\n",
       "    </tr>\n",
       "    <tr>\n",
       "      <th>C</th>\n",
       "      <td>6.327511e-02</td>\n",
       "      <td>0.085316</td>\n",
       "      <td>0.060193</td>\n",
       "      <td>5.791325e-02</td>\n",
       "      <td>2.711478e-02</td>\n",
       "    </tr>\n",
       "    <tr>\n",
       "      <th>A</th>\n",
       "      <td>1.032762e-03</td>\n",
       "      <td>0.001529</td>\n",
       "      <td>0.000959</td>\n",
       "      <td>9.893325e-04</td>\n",
       "      <td>4.552762e-04</td>\n",
       "    </tr>\n",
       "    <tr>\n",
       "      <th>-GCCA</th>\n",
       "      <td>1.444423e-06</td>\n",
       "      <td>0.000000</td>\n",
       "      <td>0.000000</td>\n",
       "      <td>5.213610e-07</td>\n",
       "      <td>5.959897e-07</td>\n",
       "    </tr>\n",
       "    <tr>\n",
       "      <th>-GCC</th>\n",
       "      <td>2.166634e-06</td>\n",
       "      <td>0.000327</td>\n",
       "      <td>0.000264</td>\n",
       "      <td>1.862798e-04</td>\n",
       "      <td>1.242485e-04</td>\n",
       "    </tr>\n",
       "    <tr>\n",
       "      <th>-GC</th>\n",
       "      <td>1.227759e-05</td>\n",
       "      <td>0.000016</td>\n",
       "      <td>0.000159</td>\n",
       "      <td>6.343856e-05</td>\n",
       "      <td>5.903326e-05</td>\n",
       "    </tr>\n",
       "    <tr>\n",
       "      <th>-G</th>\n",
       "      <td>5.313310e-03</td>\n",
       "      <td>0.007077</td>\n",
       "      <td>0.017374</td>\n",
       "      <td>9.000736e-03</td>\n",
       "      <td>5.019836e-03</td>\n",
       "    </tr>\n",
       "    <tr>\n",
       "      <th>+TCCC</th>\n",
       "      <td>7.222115e-07</td>\n",
       "      <td>0.000000</td>\n",
       "      <td>0.000000</td>\n",
       "      <td>2.606805e-07</td>\n",
       "      <td>2.979948e-07</td>\n",
       "    </tr>\n",
       "    <tr>\n",
       "      <th>+TCC</th>\n",
       "      <td>1.444423e-06</td>\n",
       "      <td>0.000002</td>\n",
       "      <td>0.000000</td>\n",
       "      <td>1.012785e-06</td>\n",
       "      <td>6.803309e-07</td>\n",
       "    </tr>\n",
       "    <tr>\n",
       "      <th>+TC</th>\n",
       "      <td>2.166634e-06</td>\n",
       "      <td>0.000005</td>\n",
       "      <td>0.000000</td>\n",
       "      <td>2.435464e-06</td>\n",
       "      <td>1.898736e-06</td>\n",
       "    </tr>\n",
       "    <tr>\n",
       "      <th>+T</th>\n",
       "      <td>7.944326e-06</td>\n",
       "      <td>0.000014</td>\n",
       "      <td>0.000000</td>\n",
       "      <td>7.068363e-06</td>\n",
       "      <td>5.079166e-06</td>\n",
       "    </tr>\n",
       "    <tr>\n",
       "      <th>+GCC</th>\n",
       "      <td>2.888846e-06</td>\n",
       "      <td>0.000005</td>\n",
       "      <td>0.000000</td>\n",
       "      <td>2.626063e-06</td>\n",
       "      <td>1.900977e-06</td>\n",
       "    </tr>\n",
       "    <tr>\n",
       "      <th>+GC</th>\n",
       "      <td>5.055480e-06</td>\n",
       "      <td>0.000004</td>\n",
       "      <td>0.000000</td>\n",
       "      <td>2.718896e-06</td>\n",
       "      <td>1.864057e-06</td>\n",
       "    </tr>\n",
       "    <tr>\n",
       "      <th>+CCCC</th>\n",
       "      <td>0.000000e+00</td>\n",
       "      <td>0.000002</td>\n",
       "      <td>0.000000</td>\n",
       "      <td>6.408199e-07</td>\n",
       "      <td>7.325482e-07</td>\n",
       "    </tr>\n",
       "    <tr>\n",
       "      <th>+CCC</th>\n",
       "      <td>7.222115e-07</td>\n",
       "      <td>0.000000</td>\n",
       "      <td>0.000000</td>\n",
       "      <td>2.606805e-07</td>\n",
       "      <td>2.979948e-07</td>\n",
       "    </tr>\n",
       "    <tr>\n",
       "      <th>+CC</th>\n",
       "      <td>1.444423e-06</td>\n",
       "      <td>0.000004</td>\n",
       "      <td>0.000000</td>\n",
       "      <td>1.623643e-06</td>\n",
       "      <td>1.265824e-06</td>\n",
       "    </tr>\n",
       "    <tr>\n",
       "      <th>+C</th>\n",
       "      <td>2.585517e-04</td>\n",
       "      <td>0.000469</td>\n",
       "      <td>0.000325</td>\n",
       "      <td>2.980607e-04</td>\n",
       "      <td>1.369952e-04</td>\n",
       "    </tr>\n",
       "    <tr>\n",
       "      <th>+A</th>\n",
       "      <td>1.444423e-05</td>\n",
       "      <td>0.000009</td>\n",
       "      <td>0.000023</td>\n",
       "      <td>1.339096e-05</td>\n",
       "      <td>6.447856e-06</td>\n",
       "    </tr>\n",
       "    <tr>\n",
       "      <th>mean</th>\n",
       "      <td>4.819157e-03</td>\n",
       "      <td>0.007095</td>\n",
       "      <td>0.007551</td>\n",
       "      <td>5.562119e-03</td>\n",
       "      <td>2.259030e-03</td>\n",
       "    </tr>\n",
       "    <tr>\n",
       "      <th>STD</th>\n",
       "      <td>1.471531e-02</td>\n",
       "      <td>0.020426</td>\n",
       "      <td>0.018418</td>\n",
       "      <td>1.508251e-02</td>\n",
       "      <td>6.154061e-03</td>\n",
       "    </tr>\n",
       "  </tbody>\n",
       "</table>\n",
       "</div>"
      ],
      "text/plain": [
       "                  0         1         2          mean           STD\n",
       "T      1.681236e-02  0.032933  0.056621  3.163448e-02  1.640456e-02\n",
       "C      6.327511e-02  0.085316  0.060193  5.791325e-02  2.711478e-02\n",
       "A      1.032762e-03  0.001529  0.000959  9.893325e-04  4.552762e-04\n",
       "-GCCA  1.444423e-06  0.000000  0.000000  5.213610e-07  5.959897e-07\n",
       "-GCC   2.166634e-06  0.000327  0.000264  1.862798e-04  1.242485e-04\n",
       "-GC    1.227759e-05  0.000016  0.000159  6.343856e-05  5.903326e-05\n",
       "-G     5.313310e-03  0.007077  0.017374  9.000736e-03  5.019836e-03\n",
       "+TCCC  7.222115e-07  0.000000  0.000000  2.606805e-07  2.979948e-07\n",
       "+TCC   1.444423e-06  0.000002  0.000000  1.012785e-06  6.803309e-07\n",
       "+TC    2.166634e-06  0.000005  0.000000  2.435464e-06  1.898736e-06\n",
       "+T     7.944326e-06  0.000014  0.000000  7.068363e-06  5.079166e-06\n",
       "+GCC   2.888846e-06  0.000005  0.000000  2.626063e-06  1.900977e-06\n",
       "+GC    5.055480e-06  0.000004  0.000000  2.718896e-06  1.864057e-06\n",
       "+CCCC  0.000000e+00  0.000002  0.000000  6.408199e-07  7.325482e-07\n",
       "+CCC   7.222115e-07  0.000000  0.000000  2.606805e-07  2.979948e-07\n",
       "+CC    1.444423e-06  0.000004  0.000000  1.623643e-06  1.265824e-06\n",
       "+C     2.585517e-04  0.000469  0.000325  2.980607e-04  1.369952e-04\n",
       "+A     1.444423e-05  0.000009  0.000023  1.339096e-05  6.447856e-06\n",
       "mean   4.819157e-03  0.007095  0.007551  5.562119e-03  2.259030e-03\n",
       "STD    1.471531e-02  0.020426  0.018418  1.508251e-02  6.154061e-03"
      ]
     },
     "execution_count": 65,
     "metadata": {},
     "output_type": "execute_result"
    }
   ],
   "source": [
    "Mismatch_m2G_GCC_2"
   ]
  },
  {
   "cell_type": "code",
   "execution_count": 66,
   "id": "b98f40d1",
   "metadata": {},
   "outputs": [
    {
     "data": {
      "text/html": [
       "<div>\n",
       "<style scoped>\n",
       "    .dataframe tbody tr th:only-of-type {\n",
       "        vertical-align: middle;\n",
       "    }\n",
       "\n",
       "    .dataframe tbody tr th {\n",
       "        vertical-align: top;\n",
       "    }\n",
       "\n",
       "    .dataframe thead th {\n",
       "        text-align: right;\n",
       "    }\n",
       "</style>\n",
       "<table border=\"1\" class=\"dataframe\">\n",
       "  <thead>\n",
       "    <tr style=\"text-align: right;\">\n",
       "      <th></th>\n",
       "      <th>0</th>\n",
       "      <th>1</th>\n",
       "      <th>2</th>\n",
       "      <th>mean</th>\n",
       "      <th>STD</th>\n",
       "    </tr>\n",
       "  </thead>\n",
       "  <tbody>\n",
       "    <tr>\n",
       "      <th>T</th>\n",
       "      <td>0.083001</td>\n",
       "      <td>0.088007</td>\n",
       "      <td>0.072757</td>\n",
       "      <td>0.081255</td>\n",
       "      <td>0.006347</td>\n",
       "    </tr>\n",
       "    <tr>\n",
       "      <th>C</th>\n",
       "      <td>0.073345</td>\n",
       "      <td>0.073440</td>\n",
       "      <td>0.055686</td>\n",
       "      <td>0.067490</td>\n",
       "      <td>0.008347</td>\n",
       "    </tr>\n",
       "    <tr>\n",
       "      <th>A</th>\n",
       "      <td>0.007622</td>\n",
       "      <td>0.007319</td>\n",
       "      <td>0.007165</td>\n",
       "      <td>0.007368</td>\n",
       "      <td>0.000190</td>\n",
       "    </tr>\n",
       "    <tr>\n",
       "      <th>-G</th>\n",
       "      <td>0.211401</td>\n",
       "      <td>0.237578</td>\n",
       "      <td>0.177142</td>\n",
       "      <td>0.208707</td>\n",
       "      <td>0.024746</td>\n",
       "    </tr>\n",
       "  </tbody>\n",
       "</table>\n",
       "</div>"
      ],
      "text/plain": [
       "           0         1         2      mean       STD\n",
       "T   0.083001  0.088007  0.072757  0.081255  0.006347\n",
       "C   0.073345  0.073440  0.055686  0.067490  0.008347\n",
       "A   0.007622  0.007319  0.007165  0.007368  0.000190\n",
       "-G  0.211401  0.237578  0.177142  0.208707  0.024746"
      ]
     },
     "execution_count": 66,
     "metadata": {},
     "output_type": "execute_result"
    }
   ],
   "source": [
    "Mismatch_m2G_GCC_2_specific_Control"
   ]
  },
  {
   "cell_type": "markdown",
   "id": "8d9d076c",
   "metadata": {},
   "source": [
    "----------------------------------------------------------------------------------------\n",
    "- Make Plots\n",
    "\n",
    "----------------------------------------------------------------------------------------"
   ]
  },
  {
   "cell_type": "markdown",
   "id": "31e83f01",
   "metadata": {},
   "source": [
    "----------------------------------------------------------------------------------------\n",
    "- Analyse and plot complete list of different types of mismatch profile at m2G site\n",
    "\n",
    "----------------------------------------------------------------------------------------"
   ]
  },
  {
   "cell_type": "code",
   "execution_count": 374,
   "id": "27327877",
   "metadata": {},
   "outputs": [
    {
     "data": {
      "image/png": "[encoded data removed]",
      "text/plain": [
       "<Figure size 1280x640 with 1 Axes>"
      ]
     },
     "metadata": {
      "needs_background": "light"
     },
     "output_type": "display_data"
    }
   ],
   "source": [
    "barWidth = 0.4\n",
    " \n",
    "plt.figure(figsize=(16, 8), dpi=80)\n",
    "plt.rc('legend', fontsize=15)    # legend fontsize\n",
    "plt.rc('ytick', labelsize=14)    # legend fontsize\n",
    "plt.rc('xtick', labelsize=14) \n",
    "plt.rcParams['axes.xmargin'] = 0.01\n",
    "\n",
    "# Set position of bar on X axis\n",
    "r1 = np.arange(len(Mismatch_m2G_GCC_2))\n",
    " \n",
    "# Make the plot\n",
    "plt.bar(r1, Mismatch_m2G_GCC_2['mean'], yerr=Mismatch_m2G_GCC_2['STD'], color='lightsteelblue', width=barWidth, edgecolor='white', capsize=3)\n",
    " \n",
    "# Add xticks on the middle of the group bars\n",
    "plt.xlabel(\"Error Type\",fontsize=18,labelpad=0)\n",
    "plt.ylabel(\"Sequencing Error\",fontsize=18,labelpad=10)\n",
    "plt.title(\"Sequencing Error Type of position 33: tRNA-Gly-GCC-2, chip1 (THUMPD3_ko)\", fontsize=18)\n",
    "\n",
    "plt.xticks([r for r in range(len(Mismatch_m2G_GCC_2))], Mismatch_m2G_GCC_2.index.to_list(), rotation=45)\n",
    "plt.ylim(0,0.15)\n",
    "    \n",
    "# Create legend & Show graphic\n",
    "plt.savefig('position33_GCC_2_chip1_error_type_THUMPD3_ko.png',dpi=500, bbox_inches='tight')\n",
    "plt.show()"
   ]
  },
  {
   "cell_type": "markdown",
   "id": "835291b8",
   "metadata": {},
   "source": [
    "----------------------------------------------------------------------------------------\n",
    "- plot levels of (-G, G->T, G->A, G->C) mismatchs and deletion at m2G site in different samples with and wo blue light treatment and enzyme depletion\n",
    "\n",
    "----------------------------------------------------------------------------------------"
   ]
  },
  {
   "cell_type": "code",
   "execution_count": 67,
   "id": "94c87ceb",
   "metadata": {},
   "outputs": [
    {
     "data": {
      "image/png": "[encoded data removed]",
      "text/plain": [
       "<Figure size 560x640 with 1 Axes>"
      ]
     },
     "metadata": {},
     "output_type": "display_data"
    }
   ],
   "source": [
    "barWidth = 0.4\n",
    " \n",
    "plt.figure(figsize=(7, 8), dpi=80)\n",
    "plt.rc('legend', fontsize=15)    # legend fontsize\n",
    "plt.rc('ytick', labelsize=14)    # legend fontsize\n",
    "plt.rc('xtick', labelsize=18) \n",
    "plt.rcParams['axes.xmargin'] = 0.01\n",
    "plt.rcParams['axes.titlepad'] = 20\n",
    "\n",
    "# Set position of bar on X axis\n",
    "r1 = np.arange(len(Mismatch_m2G_GCC_2_specific_Control))\n",
    "r2 = [x + barWidth for x in r1]\n",
    " \n",
    "# Make the plot\n",
    "plt.bar(r1, Mismatch_m2G_GCC_2_specific_Control['mean'], yerr=Mismatch_m2G_GCC_2_specific_Control['STD'], color='green', width=barWidth, edgecolor='white', label='WT', capsize=3)\n",
    "plt.bar(r2, Mismatch_m2G_GCC_2_specific_THUMPD3_ko['mean'], yerr=Mismatch_m2G_GCC_2_specific_THUMPD3_ko['STD'], color='darkorange', width=barWidth, edgecolor='white', label='ΔD3',capsize=3)\n",
    "\n",
    "# Add xticks on the middle of the group bars\n",
    "plt.xlabel(\"Error Type\",fontsize=18,labelpad=10)\n",
    "plt.ylabel(\"Sequencing Error\",fontsize=18,labelpad=10)\n",
    "plt.title(\"Sequencing Error Type of M2G6: tRNA-Gly-GCC-2, chip1\", fontsize=14)\n",
    "\n",
    "plt.xticks([r + 0.2 for r in range(len(Mismatch_list_specific))], Mismatch_list_specific)\n",
    "plt.ylim(0,0.3)\n",
    "    \n",
    "# Create legend & Show graphic\n",
    "plt.legend(loc='upper right')\n",
    "plt.savefig('m2G6_GCC_2_chip1_error_type_Control_versus_THUMPD3_ko_new.png',dpi=500, bbox_inches='tight')\n",
    "plt.show()"
   ]
  },
  {
   "cell_type": "markdown",
   "id": "7f7e78db",
   "metadata": {},
   "source": [
    "----------------------------------------------------------------------------------------\n",
    "- Exactly the same part above but for tRNA-Gly-CCC-2\n",
    "\n",
    "----------------------------------------------------------------------------------------"
   ]
  },
  {
   "cell_type": "code",
   "execution_count": 68,
   "id": "b78a09a5",
   "metadata": {},
   "outputs": [],
   "source": [
    "df_CCC_2_chip2_2_m2G6 = df_CCC_2['chip2.0102'][df_CCC_2['chip2.0102']['position'] == 45].sort_values(by='vaf', ascending=False)\n",
    "df_CCC_2_chip2_4_m2G6 = df_CCC_2['chip2.0104'][df_CCC_2['chip2.0104']['position'] == 45].sort_values(by='vaf', ascending=False)\n",
    "df_CCC_2_chip2_6_m2G6 = df_CCC_2['chip2.0106'][df_CCC_2['chip2.0106']['position'] == 45].sort_values(by='vaf', ascending=False)\n",
    "df_CCC_2_chip2_2_m2G6_THUMPD3_ko = df_CCC_2['chip2.0108'][df_CCC_2['chip2.0108']['position'] == 45].sort_values(by='vaf', ascending=False)\n",
    "df_CCC_2_chip2_4_m2G6_THUMPD3_ko = df_CCC_2['chip2.0110'][df_CCC_2['chip2.0110']['position'] == 45].sort_values(by='vaf', ascending=False)\n",
    "df_CCC_2_chip2_6_m2G6_THUMPD3_ko = df_CCC_2['chip2.0112'][df_CCC_2['chip2.0112']['position'] == 45].sort_values(by='vaf', ascending=False)"
   ]
  },
  {
   "cell_type": "code",
   "execution_count": 69,
   "id": "0b5ac03e",
   "metadata": {},
   "outputs": [],
   "source": [
    "Mismatch_list_control = list(set(df_CCC_2_chip2_2_m2G6['base'].tolist() + df_CCC_2_chip2_4_m2G6['base'].tolist() + df_CCC_2_chip2_6_m2G6['base'].tolist()))\n",
    "\n",
    "Mismatch_list_control.sort(reverse=True)\n",
    "\n",
    "Mismatch_m2G_CCC_2 = {}\n",
    "\n",
    "for i in Mismatch_list_control:\n",
    "    \n",
    "    if i in df_CCC_2_chip2_2_m2G6['base'].values:\n",
    "    \n",
    "        i_1 = float(df_CCC_2_chip2_2_m2G6[df_CCC_2_chip2_2_m2G6['base'] == i]['vaf'].values)\n",
    "    \n",
    "    else:\n",
    "        \n",
    "        i_1 = 0\n",
    "    \n",
    "    if i in df_CCC_2_chip2_4_m2G6['base'].values:\n",
    "    \n",
    "        i_2 = float(df_CCC_2_chip2_4_m2G6[df_CCC_2_chip2_4_m2G6['base'] == i]['vaf'].values)\n",
    "    \n",
    "    else:\n",
    "        \n",
    "        i_2 = 0\n",
    "        \n",
    "    if i in df_CCC_2_chip2_6_m2G6['base'].values:\n",
    "    \n",
    "        i_3 = float(df_CCC_2_chip2_6_m2G6[df_CCC_2_chip2_6_m2G6['base'] == i]['vaf'].values)\n",
    "    \n",
    "    else:\n",
    "        \n",
    "        i_3 = 0\n",
    "    \n",
    "    Mismatch_m2G_CCC_2[i] = [i_1,i_2,i_3]\n",
    "    \n",
    "Mismatch_m2G_CCC_2 = pd.DataFrame(Mismatch_m2G_CCC_2)\n",
    "Mismatch_m2G_CCC_2 =Mismatch_m2G_CCC_2.T\n",
    "Mismatch_m2G_CCC_2['mean'] = Mismatch_m2G_CCC_2.mean(axis=1)\n",
    "Mismatch_m2G_CCC_2['STD'] = Mismatch_m2G_CCC_2.std(axis=1)"
   ]
  },
  {
   "cell_type": "code",
   "execution_count": 70,
   "id": "23129bb7",
   "metadata": {},
   "outputs": [],
   "source": [
    "Mismatch_list_control = list(set(df_CCC_2_chip2_2_m2G6_THUMPD3_ko['base'].tolist() + df_CCC_2_chip2_4_m2G6_THUMPD3_ko['base'].tolist() + df_CCC_2_chip2_6_m2G6_THUMPD3_ko['base'].tolist()))\n",
    "\n",
    "Mismatch_list_control.sort(reverse=True)\n",
    "\n",
    "Mismatch_m2G_CCC_2 = {}\n",
    "\n",
    "for i in Mismatch_list_control:\n",
    "    \n",
    "    if i in df_CCC_2_chip2_2_m2G6_THUMPD3_ko['base'].values:\n",
    "    \n",
    "        i_1 = float(df_CCC_2_chip2_2_m2G6_THUMPD3_ko[df_CCC_2_chip2_2_m2G6_THUMPD3_ko['base'] == i]['vaf'].values)\n",
    "    \n",
    "    else:\n",
    "        \n",
    "        i_1 = 0\n",
    "    \n",
    "    if i in df_CCC_2_chip2_4_m2G6_THUMPD3_ko['base'].values:\n",
    "    \n",
    "        i_2 = float(df_CCC_2_chip2_4_m2G6_THUMPD3_ko[df_CCC_2_chip2_4_m2G6_THUMPD3_ko['base'] == i]['vaf'].values)\n",
    "    \n",
    "    else:\n",
    "        \n",
    "        i_2 = 0\n",
    "        \n",
    "    if i in df_CCC_2_chip2_6_m2G6_THUMPD3_ko['base'].values:\n",
    "    \n",
    "        i_3 = float(df_CCC_2_chip2_6_m2G6_THUMPD3_ko[df_CCC_2_chip2_6_m2G6_THUMPD3_ko['base'] == i]['vaf'].values)\n",
    "    \n",
    "    else:\n",
    "        \n",
    "        i_3 = 0\n",
    "    \n",
    "    Mismatch_m2G_CCC_2[i] = [i_1,i_2,i_3]\n",
    "    \n",
    "Mismatch_m2G_CCC_2 = pd.DataFrame(Mismatch_m2G_CCC_2)\n",
    "Mismatch_m2G_CCC_2 =Mismatch_m2G_CCC_2.T\n",
    "Mismatch_m2G_CCC_2['mean'] = Mismatch_m2G_CCC_2.mean(axis=1)\n",
    "Mismatch_m2G_CCC_2['STD'] = Mismatch_m2G_CCC_2.std(axis=1)"
   ]
  },
  {
   "cell_type": "code",
   "execution_count": 71,
   "id": "eba18963",
   "metadata": {},
   "outputs": [],
   "source": [
    "Mismatch_m2G_CCC_2_specific_Control = {}\n",
    "\n",
    "for i in Mismatch_list_specific:\n",
    "    \n",
    "    if i in df_CCC_2_chip2_2_m2G6['base'].values:\n",
    "    \n",
    "        i_1 = float(df_CCC_2_chip2_2_m2G6[df_CCC_2_chip2_2_m2G6['base'] == i]['vaf'].values)\n",
    "    \n",
    "    else:\n",
    "        \n",
    "        i_1 = 0\n",
    "    \n",
    "    if i in df_CCC_2_chip2_4_m2G6['base'].values:\n",
    "    \n",
    "        i_2 = float(df_CCC_2_chip2_4_m2G6[df_CCC_2_chip2_4_m2G6['base'] == i]['vaf'].values)\n",
    "    \n",
    "    else:\n",
    "        \n",
    "        i_2 = 0\n",
    "        \n",
    "    if i in df_CCC_2_chip2_6_m2G6['base'].values:\n",
    "    \n",
    "        i_3 = float(df_CCC_2_chip2_6_m2G6[df_CCC_2_chip2_6_m2G6['base'] == i]['vaf'].values)\n",
    "    \n",
    "    else:\n",
    "        \n",
    "        i_3 = 0\n",
    "    \n",
    "    Mismatch_m2G_CCC_2_specific_Control[i] = [i_1,i_2,i_3]\n",
    "\n",
    "Mismatch_m2G_CCC_2_specific_Control = pd.DataFrame(Mismatch_m2G_CCC_2_specific_Control)\n",
    "Mismatch_m2G_CCC_2_specific_Control =Mismatch_m2G_CCC_2_specific_Control.T\n",
    "Mismatch_m2G_CCC_2_specific_Control['mean'] = Mismatch_m2G_CCC_2_specific_Control.mean(axis=1)\n",
    "Mismatch_m2G_CCC_2_specific_Control['STD'] = Mismatch_m2G_CCC_2_specific_Control.std(axis=1)"
   ]
  },
  {
   "cell_type": "code",
   "execution_count": 72,
   "id": "0a08c8f2",
   "metadata": {},
   "outputs": [],
   "source": [
    "Mismatch_m2G_CCC_2_specific_THUMPD3_ko = {}\n",
    "\n",
    "for i in Mismatch_list_specific:\n",
    "    \n",
    "    if i in df_CCC_2_chip2_2_m2G6_THUMPD3_ko['base'].values:\n",
    "    \n",
    "        i_1 = float(df_CCC_2_chip2_2_m2G6_THUMPD3_ko[df_CCC_2_chip2_2_m2G6_THUMPD3_ko['base'] == i]['vaf'].values)\n",
    "    \n",
    "    else:\n",
    "        \n",
    "        i_1 = 0\n",
    "    \n",
    "    if i in df_CCC_2_chip2_4_m2G6_THUMPD3_ko['base'].values:\n",
    "    \n",
    "        i_2 = float(df_CCC_2_chip2_4_m2G6_THUMPD3_ko[df_CCC_2_chip2_4_m2G6_THUMPD3_ko['base'] == i]['vaf'].values)\n",
    "    \n",
    "    else:\n",
    "        \n",
    "        i_2 = 0\n",
    "        \n",
    "    if i in df_CCC_2_chip2_6_m2G6_THUMPD3_ko['base'].values:\n",
    "    \n",
    "        i_3 = float(df_CCC_2_chip2_6_m2G6_THUMPD3_ko[df_CCC_2_chip2_6_m2G6_THUMPD3_ko['base'] == i]['vaf'].values)\n",
    "    \n",
    "    else:\n",
    "        \n",
    "        i_3 = 0\n",
    "    \n",
    "    Mismatch_m2G_CCC_2_specific_THUMPD3_ko[i] = [i_1,i_2,i_3]\n",
    "\n",
    "Mismatch_m2G_CCC_2_specific_THUMPD3_ko = pd.DataFrame(Mismatch_m2G_CCC_2_specific_THUMPD3_ko)\n",
    "Mismatch_m2G_CCC_2_specific_THUMPD3_ko =Mismatch_m2G_CCC_2_specific_THUMPD3_ko.T\n",
    "Mismatch_m2G_CCC_2_specific_THUMPD3_ko['mean'] = Mismatch_m2G_CCC_2_specific_THUMPD3_ko.mean(axis=1)\n",
    "Mismatch_m2G_CCC_2_specific_THUMPD3_ko['STD'] = Mismatch_m2G_CCC_2_specific_THUMPD3_ko.std(axis=1)"
   ]
  },
  {
   "cell_type": "code",
   "execution_count": 73,
   "id": "e57acb9d",
   "metadata": {},
   "outputs": [
    {
     "data": {
      "text/html": [
       "<div>\n",
       "<style scoped>\n",
       "    .dataframe tbody tr th:only-of-type {\n",
       "        vertical-align: middle;\n",
       "    }\n",
       "\n",
       "    .dataframe tbody tr th {\n",
       "        vertical-align: top;\n",
       "    }\n",
       "\n",
       "    .dataframe thead th {\n",
       "        text-align: right;\n",
       "    }\n",
       "</style>\n",
       "<table border=\"1\" class=\"dataframe\">\n",
       "  <thead>\n",
       "    <tr style=\"text-align: right;\">\n",
       "      <th></th>\n",
       "      <th>0</th>\n",
       "      <th>1</th>\n",
       "      <th>2</th>\n",
       "      <th>mean</th>\n",
       "      <th>STD</th>\n",
       "    </tr>\n",
       "  </thead>\n",
       "  <tbody>\n",
       "    <tr>\n",
       "      <th>T</th>\n",
       "      <td>0.088280</td>\n",
       "      <td>0.105795</td>\n",
       "      <td>0.086895</td>\n",
       "      <td>0.093657</td>\n",
       "      <td>0.008602</td>\n",
       "    </tr>\n",
       "    <tr>\n",
       "      <th>C</th>\n",
       "      <td>0.117201</td>\n",
       "      <td>0.119843</td>\n",
       "      <td>0.088789</td>\n",
       "      <td>0.108611</td>\n",
       "      <td>0.014058</td>\n",
       "    </tr>\n",
       "    <tr>\n",
       "      <th>A</th>\n",
       "      <td>0.006878</td>\n",
       "      <td>0.008202</td>\n",
       "      <td>0.007361</td>\n",
       "      <td>0.007480</td>\n",
       "      <td>0.000547</td>\n",
       "    </tr>\n",
       "    <tr>\n",
       "      <th>-G</th>\n",
       "      <td>0.057312</td>\n",
       "      <td>0.055654</td>\n",
       "      <td>0.051866</td>\n",
       "      <td>0.054944</td>\n",
       "      <td>0.002279</td>\n",
       "    </tr>\n",
       "  </tbody>\n",
       "</table>\n",
       "</div>"
      ],
      "text/plain": [
       "           0         1         2      mean       STD\n",
       "T   0.088280  0.105795  0.086895  0.093657  0.008602\n",
       "C   0.117201  0.119843  0.088789  0.108611  0.014058\n",
       "A   0.006878  0.008202  0.007361  0.007480  0.000547\n",
       "-G  0.057312  0.055654  0.051866  0.054944  0.002279"
      ]
     },
     "execution_count": 73,
     "metadata": {},
     "output_type": "execute_result"
    }
   ],
   "source": [
    "Mismatch_m2G_CCC_2_specific_THUMPD3_ko"
   ]
  },
  {
   "cell_type": "code",
   "execution_count": 316,
   "id": "c1939fd5",
   "metadata": {},
   "outputs": [],
   "source": [
    "Mismatch_m2G_CCC_2.to_csv('Mismatch_m2G_CCC_2.csv')"
   ]
  },
  {
   "cell_type": "code",
   "execution_count": 74,
   "id": "f0b43317",
   "metadata": {},
   "outputs": [
    {
     "data": {
      "text/html": [
       "<div>\n",
       "<style scoped>\n",
       "    .dataframe tbody tr th:only-of-type {\n",
       "        vertical-align: middle;\n",
       "    }\n",
       "\n",
       "    .dataframe tbody tr th {\n",
       "        vertical-align: top;\n",
       "    }\n",
       "\n",
       "    .dataframe thead th {\n",
       "        text-align: right;\n",
       "    }\n",
       "</style>\n",
       "<table border=\"1\" class=\"dataframe\">\n",
       "  <thead>\n",
       "    <tr style=\"text-align: right;\">\n",
       "      <th></th>\n",
       "      <th>0</th>\n",
       "      <th>1</th>\n",
       "      <th>2</th>\n",
       "      <th>mean</th>\n",
       "      <th>STD</th>\n",
       "    </tr>\n",
       "  </thead>\n",
       "  <tbody>\n",
       "    <tr>\n",
       "      <th>T</th>\n",
       "      <td>0.088280</td>\n",
       "      <td>0.105795</td>\n",
       "      <td>0.086895</td>\n",
       "      <td>9.365683e-02</td>\n",
       "      <td>8.601705e-03</td>\n",
       "    </tr>\n",
       "    <tr>\n",
       "      <th>C</th>\n",
       "      <td>0.117201</td>\n",
       "      <td>0.119843</td>\n",
       "      <td>0.088789</td>\n",
       "      <td>1.086112e-01</td>\n",
       "      <td>1.405797e-02</td>\n",
       "    </tr>\n",
       "    <tr>\n",
       "      <th>A</th>\n",
       "      <td>0.006878</td>\n",
       "      <td>0.008202</td>\n",
       "      <td>0.007361</td>\n",
       "      <td>7.480230e-03</td>\n",
       "      <td>5.470903e-04</td>\n",
       "    </tr>\n",
       "    <tr>\n",
       "      <th>-GCTGGTGTA</th>\n",
       "      <td>0.000000</td>\n",
       "      <td>0.000001</td>\n",
       "      <td>0.000065</td>\n",
       "      <td>2.205923e-05</td>\n",
       "      <td>3.026721e-05</td>\n",
       "    </tr>\n",
       "    <tr>\n",
       "      <th>-GCTGGTGT</th>\n",
       "      <td>0.000006</td>\n",
       "      <td>0.000016</td>\n",
       "      <td>0.000000</td>\n",
       "      <td>7.314716e-06</td>\n",
       "      <td>6.528758e-06</td>\n",
       "    </tr>\n",
       "    <tr>\n",
       "      <th>...</th>\n",
       "      <td>...</td>\n",
       "      <td>...</td>\n",
       "      <td>...</td>\n",
       "      <td>...</td>\n",
       "      <td>...</td>\n",
       "    </tr>\n",
       "    <tr>\n",
       "      <th>+AATAA</th>\n",
       "      <td>0.000001</td>\n",
       "      <td>0.000000</td>\n",
       "      <td>0.000000</td>\n",
       "      <td>3.384837e-07</td>\n",
       "      <td>4.786882e-07</td>\n",
       "    </tr>\n",
       "    <tr>\n",
       "      <th>+AATA</th>\n",
       "      <td>0.000004</td>\n",
       "      <td>0.000000</td>\n",
       "      <td>0.000000</td>\n",
       "      <td>1.353935e-06</td>\n",
       "      <td>1.914753e-06</td>\n",
       "    </tr>\n",
       "    <tr>\n",
       "      <th>+AACGATCA</th>\n",
       "      <td>0.000000</td>\n",
       "      <td>0.000001</td>\n",
       "      <td>0.000000</td>\n",
       "      <td>4.403178e-07</td>\n",
       "      <td>6.227034e-07</td>\n",
       "    </tr>\n",
       "    <tr>\n",
       "      <th>+AA</th>\n",
       "      <td>0.000001</td>\n",
       "      <td>0.000000</td>\n",
       "      <td>0.000000</td>\n",
       "      <td>3.384837e-07</td>\n",
       "      <td>4.786882e-07</td>\n",
       "    </tr>\n",
       "    <tr>\n",
       "      <th>+A</th>\n",
       "      <td>0.000147</td>\n",
       "      <td>0.000322</td>\n",
       "      <td>0.000143</td>\n",
       "      <td>2.040793e-04</td>\n",
       "      <td>8.362428e-05</td>\n",
       "    </tr>\n",
       "  </tbody>\n",
       "</table>\n",
       "<p>105 rows × 5 columns</p>\n",
       "</div>"
      ],
      "text/plain": [
       "                   0         1         2          mean           STD\n",
       "T           0.088280  0.105795  0.086895  9.365683e-02  8.601705e-03\n",
       "C           0.117201  0.119843  0.088789  1.086112e-01  1.405797e-02\n",
       "A           0.006878  0.008202  0.007361  7.480230e-03  5.470903e-04\n",
       "-GCTGGTGTA  0.000000  0.000001  0.000065  2.205923e-05  3.026721e-05\n",
       "-GCTGGTGT   0.000006  0.000016  0.000000  7.314716e-06  6.528758e-06\n",
       "...              ...       ...       ...           ...           ...\n",
       "+AATAA      0.000001  0.000000  0.000000  3.384837e-07  4.786882e-07\n",
       "+AATA       0.000004  0.000000  0.000000  1.353935e-06  1.914753e-06\n",
       "+AACGATCA   0.000000  0.000001  0.000000  4.403178e-07  6.227034e-07\n",
       "+AA         0.000001  0.000000  0.000000  3.384837e-07  4.786882e-07\n",
       "+A          0.000147  0.000322  0.000143  2.040793e-04  8.362428e-05\n",
       "\n",
       "[105 rows x 5 columns]"
      ]
     },
     "execution_count": 74,
     "metadata": {},
     "output_type": "execute_result"
    }
   ],
   "source": [
    "Mismatch_m2G_CCC_2 "
   ]
  },
  {
   "cell_type": "code",
   "execution_count": 410,
   "id": "ddf29b21",
   "metadata": {},
   "outputs": [],
   "source": [
    "Mismatch_m2G_CCC_2 = Mismatch_m2G_CCC_2[Mismatch_m2G_CCC_2['mean'] >= 0.0001]"
   ]
  },
  {
   "cell_type": "code",
   "execution_count": 411,
   "id": "b7e8bf13",
   "metadata": {},
   "outputs": [
    {
     "data": {
      "image/png": "[encoded data removed]",
      "text/plain": [
       "<Figure size 1280x640 with 1 Axes>"
      ]
     },
     "metadata": {
      "needs_background": "light"
     },
     "output_type": "display_data"
    }
   ],
   "source": [
    "barWidth = 0.4\n",
    " \n",
    "plt.figure(figsize=(16, 8), dpi=80)\n",
    "plt.rc('legend', fontsize=15)    # legend fontsize\n",
    "plt.rc('ytick', labelsize=14)    # legend fontsize\n",
    "plt.rc('xtick', labelsize=14) \n",
    "plt.rcParams['axes.xmargin'] = 0.01\n",
    "\n",
    "# Set position of bar on X axis\n",
    "r1 = np.arange(len(Mismatch_m2G_CCC_2))\n",
    " \n",
    "# Make the plot\n",
    "plt.bar(r1, Mismatch_m2G_CCC_2['mean'], yerr=Mismatch_m2G_CCC_2['STD'], color='lightsteelblue', width=barWidth, edgecolor='white', capsize=3)\n",
    " \n",
    "# Add xticks on the middle of the group bars\n",
    "plt.xlabel(\"Error Type\",fontsize=18,labelpad=0)\n",
    "plt.ylabel(\"Sequencing Error\",fontsize=18,labelpad=10)\n",
    "plt.title(\"Sequencing Error Type of position3: tRNA-Gly-CCC-2, chip2 (THUMPD3_ko)\", fontsize=18)\n",
    "\n",
    "plt.xticks([r for r in range(len(Mismatch_m2G_CCC_2))], Mismatch_m2G_CCC_2.index.to_list(), rotation=45)\n",
    "plt.ylim(0,0.2)\n",
    "    \n",
    "# Create legend & Show graphic\n",
    "plt.savefig('position3_CCC_2_chip2_error_type_THUMPD3_ko.png',dpi=500, bbox_inches='tight')\n",
    "plt.show()"
   ]
  },
  {
   "cell_type": "code",
   "execution_count": 75,
   "id": "53c482d6",
   "metadata": {},
   "outputs": [
    {
     "data": {
      "image/png": "[encoded data removed]",
      "text/plain": [
       "<Figure size 560x640 with 1 Axes>"
      ]
     },
     "metadata": {},
     "output_type": "display_data"
    }
   ],
   "source": [
    "barWidth = 0.4\n",
    " \n",
    "plt.figure(figsize=(7, 8), dpi=80)\n",
    "plt.rc('legend', fontsize=15)    # legend fontsize\n",
    "plt.rc('ytick', labelsize=14)    # legend fontsize\n",
    "plt.rc('xtick', labelsize=18) \n",
    "plt.rcParams['axes.xmargin'] = 0.01\n",
    "plt.rcParams['axes.titlepad'] = 20\n",
    "\n",
    "# Set position of bar on X axis\n",
    "r1 = np.arange(len(Mismatch_list_specific))\n",
    "r2 = [x + barWidth for x in r1]\n",
    " \n",
    "# Make the plot\n",
    "plt.bar(r1, Mismatch_m2G_CCC_2_specific_Control['mean'], yerr=Mismatch_m2G_CCC_2_specific_Control['STD'], color='green', width=barWidth, edgecolor='white', label='WT', capsize=3)\n",
    "plt.bar(r2, Mismatch_m2G_CCC_2_specific_THUMPD3_ko['mean'], yerr=Mismatch_m2G_CCC_2_specific_THUMPD3_ko['STD'], color='darkorange', width=barWidth, edgecolor='white', label='ΔD3',capsize=3)\n",
    "\n",
    "# Add xticks on the middle of the group bars\n",
    "plt.xlabel(\"Error Type\",fontsize=18,labelpad=10)\n",
    "plt.ylabel(\"Sequencing Error\",fontsize=18,labelpad=10)\n",
    "plt.title(\"Sequencing Error Type of M2G6: tRNA-Gly-CCC-2, chip2\", fontsize=14)\n",
    "\n",
    "plt.xticks([r + 0.2 for r in range(len(Mismatch_list_specific))], Mismatch_list_specific)\n",
    "plt.ylim(0,0.3)\n",
    "    \n",
    "# Create legend & Show graphic\n",
    "plt.legend(loc='upper right')\n",
    "plt.savefig('m2G6_CCC_2_chip2_error_type_Control_versus_THUMPD3_ko_new.png',dpi=500, bbox_inches='tight')\n",
    "plt.show()"
   ]
  }
 ],
 "metadata": {
  "kernelspec": {
   "display_name": "Python 3 (ipykernel)",
   "language": "python",
   "name": "python3"
  },
  "language_info": {
   "codemirror_mode": {
    "name": "ipython",
    "version": 3
   },
   "file_extension": ".py",
   "mimetype": "text/x-python",
   "name": "python",
   "nbconvert_exporter": "python",
   "pygments_lexer": "ipython3",
   "version": "3.9.18"
  }
 },
 "nbformat": 4,
 "nbformat_minor": 5
}
